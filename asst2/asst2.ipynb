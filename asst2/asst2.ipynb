{
 "cells": [
  {
   "cell_type": "code",
   "execution_count": 1,
   "metadata": {},
   "outputs": [],
   "source": [
    "from model import *"
   ]
  },
  {
   "cell_type": "code",
   "execution_count": 2,
   "metadata": {
    "scrolled": true
   },
   "outputs": [],
   "source": [
    "# Part 1 question 2\n",
    "and_model = AND_model()\n",
    "for epoch in range(5):\n",
    "    and_model.train([(1, 1, 1), (1, 0, 0), (0, 1, 0), (0, 0, 0)])\n",
    "\n",
    "# print('simulating x = 1, y = 1: ', and_model.sim(input_x = 1, input_y = 1))\n",
    "# print('simulating x = 1, y = 0: ', and_model.sim(input_x = 1, input_y = 0))\n",
    "# print('simulating x = 0, y = 1: ', and_model.sim(input_x = 0, input_y = 1))\n",
    "# print('simulating x = 0, y = 0: ', and_model.sim(input_x = 0, input_y = 0))"
   ]
  },
  {
   "cell_type": "code",
   "execution_count": 3,
   "metadata": {
    "scrolled": true
   },
   "outputs": [],
   "source": [
    "# Part 1 question 3\n",
    "or_model = AND_model(target_fr = 2)\n",
    "for epoch in range(5):\n",
    "    or_model.train([(1, 1, 1), (1, 0, 1), (0, 1, 1), (0, 0, 0)])\n",
    "\n",
    "\n",
    "# print('simulating x = 1, y = 1: ', or_model.sim(input_x = 1, input_y = 1))\n",
    "# print('simulating x = 1, y = 0: ', or_model.sim(input_x = 1, input_y = 0))\n",
    "# print('simulating x = 0, y = 1: ', or_model.sim(input_x = 0, input_y = 1))\n",
    "# print('simulating x = 0, y = 0: ', or_model.sim(input_x = 0, input_y = 0))"
   ]
  },
  {
   "cell_type": "code",
   "execution_count": 4,
   "metadata": {},
   "outputs": [
    {
     "name": "stdout",
     "output_type": "stream",
     "text": [
      "yval:  [ 0.  0.  1. 14. 15.  4.  0.  0.  0.  0.  9. 16. 10.  5.  0.  0.  0.  1.\n",
      " 16. 10.  0.  0.  0.  0.  0.  3. 16. 12.  5.  0.  0.  0.  0.  4. 16. 16.\n",
      " 16.  8.  0.  0.  0.  1. 15.  7.  4. 16.  4.  0.  0.  0. 11. 13.  4. 16.\n",
      "  9.  0.  0.  0.  1. 12. 16. 16.  9.  0.]\n",
      "yval:  360\n"
     ]
    }
   ],
   "source": [
    "# example of image from mnist dataset\n",
    "from sklearn.datasets import load_digits\n",
    "import matplotlib.pyplot as plt\n",
    "from sklearn.model_selection import train_test_split\n",
    "\n",
    "digits = load_digits()\n",
    "\n",
    "# plt.gray() \n",
    "# plt.matshow(digits.images[11])\n",
    "# plt.show()\n",
    "# print( digits.data[11] )\n",
    "# print( digits.target[11] )\n",
    "\n",
    "# First split into Train and Test\n",
    "# Train: .8, Test: .2\n",
    "X_train, X_test, y_train, y_test = train_test_split( digits.data , digits.target, test_size=0.2, random_state=1)\n",
    "\n",
    "# Second split into Validation and Train\n",
    "# Train: .6, Validation: .2\n",
    "X_train, X_val, y_train, y_val = train_test_split(X_train, y_train, test_size=0.25, random_state=1)\n",
    "\n",
    "# plt.gray()\n",
    "# plt.matshow( np.reshape(X_val[0], (8,8) ) )\n",
    "# plt.show()\n",
    "print('yval: ', X_val[0])\n",
    "print('yval: ', len(y_val))"
   ]
  },
  {
   "cell_type": "code",
   "execution_count": 5,
   "metadata": {},
   "outputs": [
    {
     "name": "stdout",
     "output_type": "stream",
     "text": [
      "next image\n",
      "next image\n",
      "next image\n",
      "next image\n",
      "next image\n",
      "next image\n",
      "next image\n",
      "next image\n",
      "next image\n",
      "next image\n",
      "next image\n",
      "next image\n",
      "next image\n",
      "next image\n",
      "next image\n",
      "[-10.266445041100427, -9.606512088333666, -6.343107257455875, -5.500171502947637, -5.5153673384228945, -6.081002300756734, -9.120391171840376, -10.17679483588259, -10.164665688858365, -7.970312256832502, 3.6000617444897434, 2.511135623906172, 2.544458591720499, 4.62235982815449, 3.0669211112839783, 2.7828607034957895e-27, 2.7828607034957895e-27, 0.09994205504975405, 0.10006735472695481, 9.845319840153225e-05, 2.5777547103081635, 4.555758642443652, 1.855710099277463, 2.7828607034957895e-27, 2.7828607034957895e-27, 1.0315710526427947e-11, 0.2999067050751529, 0.533167481572203, 4.111233166147007, 3.0888634712637772, 0.26651213803038964, 2.7828607034957895e-27, 2.7828607034957895e-27, 1.7900612103741206e-05, 0.4998534592121637, 0.5331674816375231, 3.4335185073058656, 3.866983309857192, 0.766730279641044, 2.7828607034957895e-27, 2.7828607034957895e-27, 7.160222058641081e-05, 0.36659739327997154, 0.4331001316279387, 0.5445928395765295, 4.089317654481588, 2.811344356786042, 2.7828607034957895e-27, 2.7828607034957895e-27, 0.13330082016631462, 1.5554745223776463, 1.1889576829360042, 1.789162623113017, 4.089326608643038, 2.5557675995516016, 2.7828607034957895e-27, 2.7828607034957895e-27, 0.6444095889655752, 4.333433255650741, 4.0893534573470305, 4.089344505961857, 3.0669390164465993, 0.2555767601321178, 2.7828607034957895e-27]\n",
      "1\n",
      "6\n",
      "\n",
      "1\n",
      "5\n",
      "\n",
      "1\n",
      "5\n",
      "\n",
      "1\n",
      "0\n",
      "\n",
      "1\n",
      "7\n",
      "\n",
      "1\n",
      "9\n",
      "\n",
      "1\n",
      "1\n",
      "\n",
      "1\n",
      "2\n",
      "\n",
      "1\n",
      "3\n",
      "\n",
      "1\n",
      "2\n",
      "\n"
     ]
    }
   ],
   "source": [
    "nist_model = snn(time = 10)\n",
    "# print(nist_model.weights)\n",
    "for img, label in zip(X_val[:15], y_val[:15]):\n",
    "    print('next image')\n",
    "    temp = nist_model.train((img, label))\n",
    "print(nist_model.weights[1])\n",
    "for i in range(10):\n",
    "    print(nist_model.sim(X_val[i]))\n",
    "    print(y_val[i])\n",
    "    print()"
   ]
  },
  {
   "cell_type": "code",
   "execution_count": 6,
   "metadata": {},
   "outputs": [
    {
     "name": "stdout",
     "output_type": "stream",
     "text": [
      "[-10.266445041100427, -9.606512088333666, -6.343107257455875, -5.500171502947637, -5.5153673384228945, -6.081002300756734, -9.120391171840376, -10.17679483588259, -10.164665688858365, -7.970312256832502, 3.6000617444897434, 2.511135623906172, 2.544458591720499, 4.62235982815449, 3.0669211112839783, 2.7828607034957895e-27, 2.7828607034957895e-27, 0.09994205504975405, 0.10006735472695481, 9.845319840153225e-05, 2.5777547103081635, 4.555758642443652, 1.855710099277463, 2.7828607034957895e-27, 2.7828607034957895e-27, 1.0315710526427947e-11, 0.2999067050751529, 0.533167481572203, 4.111233166147007, 3.0888634712637772, 0.26651213803038964, 2.7828607034957895e-27, 2.7828607034957895e-27, 1.7900612103741206e-05, 0.4998534592121637, 0.5331674816375231, 3.4335185073058656, 3.866983309857192, 0.766730279641044, 2.7828607034957895e-27, 2.7828607034957895e-27, 7.160222058641081e-05, 0.36659739327997154, 0.4331001316279387, 0.5445928395765295, 4.089317654481588, 2.811344356786042, 2.7828607034957895e-27, 2.7828607034957895e-27, 0.13330082016631462, 1.5554745223776463, 1.1889576829360042, 1.789162623113017, 4.089326608643038, 2.5557675995516016, 2.7828607034957895e-27, 2.7828607034957895e-27, 0.6444095889655752, 4.333433255650741, 4.0893534573470305, 4.089344505961857, 3.0669390164465993, 0.2555767601321178, 2.7828607034957895e-27]\n"
     ]
    }
   ],
   "source": [
    "print(nist_model.weights[6])"
   ]
  },
  {
   "cell_type": "code",
   "execution_count": null,
   "metadata": {},
   "outputs": [],
   "source": []
  }
 ],
 "metadata": {
  "kernelspec": {
   "display_name": "Python 3",
   "language": "python",
   "name": "python3"
  },
  "language_info": {
   "codemirror_mode": {
    "name": "ipython",
    "version": 3
   },
   "file_extension": ".py",
   "mimetype": "text/x-python",
   "name": "python",
   "nbconvert_exporter": "python",
   "pygments_lexer": "ipython3",
   "version": "3.6.9"
  }
 },
 "nbformat": 4,
 "nbformat_minor": 4
}
