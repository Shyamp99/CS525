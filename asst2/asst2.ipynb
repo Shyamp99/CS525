{
 "cells": [
  {
   "cell_type": "code",
   "execution_count": 1,
   "metadata": {},
   "outputs": [],
   "source": [
    "from model import *"
   ]
  },
  {
   "cell_type": "code",
   "execution_count": 2,
   "metadata": {
    "scrolled": true
   },
   "outputs": [],
   "source": [
    "# Part 1 question 2\n",
    "and_model = AND_model()\n",
    "for epoch in range(5):\n",
    "    and_model.train([(1, 1, 1), (1, 0, 0), (0, 1, 0), (0, 0, 0)])\n",
    "\n",
    "# print('simulating x = 1, y = 1: ', and_model.sim(input_x = 1, input_y = 1))\n",
    "# print('simulating x = 1, y = 0: ', and_model.sim(input_x = 1, input_y = 0))\n",
    "# print('simulating x = 0, y = 1: ', and_model.sim(input_x = 0, input_y = 1))\n",
    "# print('simulating x = 0, y = 0: ', and_model.sim(input_x = 0, input_y = 0))"
   ]
  },
  {
   "cell_type": "code",
   "execution_count": 3,
   "metadata": {
    "scrolled": true
   },
   "outputs": [],
   "source": [
    "# Part 1 question 3\n",
    "or_model = AND_model(target_fr = 2)\n",
    "for epoch in range(5):\n",
    "    or_model.train([(1, 1, 1), (1, 0, 1), (0, 1, 1), (0, 0, 0)])\n",
    "\n",
    "\n",
    "# print('simulating x = 1, y = 1: ', or_model.sim(input_x = 1, input_y = 1))\n",
    "# print('simulating x = 1, y = 0: ', or_model.sim(input_x = 1, input_y = 0))\n",
    "# print('simulating x = 0, y = 1: ', or_model.sim(input_x = 0, input_y = 1))\n",
    "# print('simulating x = 0, y = 0: ', or_model.sim(input_x = 0, input_y = 0))"
   ]
  },
  {
   "cell_type": "code",
   "execution_count": 4,
   "metadata": {},
   "outputs": [
    {
     "data": {
      "text/plain": [
       "'plt.gray()\\nplt.matshow( np.reshape(X_val[0], (8,8) ) )\\nplt.show()\\nprint(X_val[0])\\nprint(y_val[0])'"
      ]
     },
     "execution_count": 4,
     "metadata": {},
     "output_type": "execute_result"
    }
   ],
   "source": [
    "# example of image from mnist dataset\n",
    "from sklearn.datasets import load_digits\n",
    "import matplotlib.pyplot as plt\n",
    "from sklearn.model_selection import train_test_split\n",
    "\n",
    "digits = load_digits()\n",
    "\n",
    "# plt.gray() \n",
    "# plt.matshow(digits.images[11])\n",
    "# plt.show()\n",
    "# print( digits.data[11] )\n",
    "# print( digits.target[11] )\n",
    "\n",
    "# First split into Train and Test\n",
    "# Train: .8, Test: .2\n",
    "X_train, X_test, y_train, y_test = train_test_split( digits.data , digits.target, test_size=0.2, random_state=1)\n",
    "\n",
    "# Second split into Validation and Train\n",
    "# Train: .6, Validation: .2\n",
    "X_train, X_val, y_train, y_val = train_test_split(X_train, y_train, test_size=0.25, random_state=1)\n",
    "\n",
    "'''plt.gray()\n",
    "plt.matshow( np.reshape(X_val[0], (8,8) ) )\n",
    "plt.show()\n",
    "print(X_val[0])\n",
    "print(y_val[0])'''"
   ]
  },
  {
   "cell_type": "code",
   "execution_count": 5,
   "metadata": {},
   "outputs": [],
   "source": [
    "test = num_model(time = 5)"
   ]
  },
  {
   "cell_type": "code",
   "execution_count": 6,
   "metadata": {},
   "outputs": [
    {
     "data": {
      "text/plain": [
       "'plt.gray()\\nplt.matshow( digits.images[3] )\\nplt.show()\\nplt.gray()\\nplt.matshow( np.reshape(test_o, (8,8) ) )\\nplt.show()'"
      ]
     },
     "execution_count": 6,
     "metadata": {},
     "output_type": "execute_result"
    }
   ],
   "source": [
    "test_o = test.poisson_encoding(digits.data[3])\n",
    "'''plt.gray()\n",
    "plt.matshow( digits.images[3] )\n",
    "plt.show()\n",
    "plt.gray()\n",
    "plt.matshow( np.reshape(test_o, (8,8) ) )\n",
    "plt.show()'''"
   ]
  },
  {
   "cell_type": "code",
   "execution_count": 7,
   "metadata": {},
   "outputs": [
    {
     "name": "stdout",
     "output_type": "stream",
     "text": [
      "length of X: 1077\n"
     ]
    }
   ],
   "source": [
    "#test.print_weights()\n",
    "test.train( X_train, y_train, .005 )"
   ]
  },
  {
   "cell_type": "code",
   "execution_count": 8,
   "metadata": {
    "scrolled": true
   },
   "outputs": [
    {
     "name": "stdout",
     "output_type": "stream",
     "text": [
      "Validation Accuracy: 55.00%\n"
     ]
    }
   ],
   "source": [
    "#test.print_weights()\n",
    "# run through validation set\n",
    "num_correct = 0\n",
    "for t in range( len(X_val) ):\n",
    "    #print(\"t: {}, Simulated: {}, Expected: {}\".format(t, test.sim( X_test[t] ), y_test[t] ))\n",
    "    if test.sim( X_val[t] ) == y_val[t]:\n",
    "        num_correct += 1\n",
    "acc = num_correct / len(X_val)\n",
    "print('Validation Accuracy: {:.2f}%'.format(acc * 100))"
   ]
  },
  {
   "cell_type": "code",
   "execution_count": null,
   "metadata": {
    "scrolled": true
   },
   "outputs": [],
   "source": [
    "num_correct = 0\n",
    "for t in range( len(X_test) ):\n",
    "    #print(\"t: {}, Simulated: {}, Expected: {}\".format(t, test.sim( X_test[t] ), y_test[t] ))\n",
    "    if test.sim( X_test[t] ) == y_test[t]:\n",
    "        num_correct += 1\n",
    "acc = num_correct / len(X_test)\n",
    "print('Test Accuracy: {:.2f}%'.format(acc * 100))"
   ]
  },
  {
   "cell_type": "code",
   "execution_count": null,
   "metadata": {},
   "outputs": [],
   "source": []
  },
  {
   "cell_type": "code",
   "execution_count": null,
   "metadata": {},
   "outputs": [],
   "source": []
  }
 ],
 "metadata": {
  "kernelspec": {
   "display_name": "Python 3",
   "language": "python",
   "name": "python3"
  },
  "language_info": {
   "codemirror_mode": {
    "name": "ipython",
    "version": 3
   },
   "file_extension": ".py",
   "mimetype": "text/x-python",
   "name": "python",
   "nbconvert_exporter": "python",
   "pygments_lexer": "ipython3",
   "version": "3.7.8"
  }
 },
 "nbformat": 4,
 "nbformat_minor": 4
}
