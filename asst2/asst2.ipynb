{
 "cells": [
  {
   "cell_type": "code",
   "execution_count": 1,
   "metadata": {},
   "outputs": [],
   "source": [
    "from model import *"
   ]
  },
  {
   "cell_type": "code",
   "execution_count": 2,
   "metadata": {},
   "outputs": [
    {
     "name": "stdout",
     "output_type": "stream",
     "text": [
      "[0.61437087 0.38562913]\n",
      "4.2\n",
      "simulating x = 1, y = 1:  1\n",
      "4.2\n",
      "simulating x = 1, y = 0:  1\n",
      "4.2\n",
      "simulating x = 0, y = 1:  1\n",
      "4.2\n",
      "simulating x = 0, y = 0:  1\n"
     ]
    }
   ],
   "source": [
    "# Part 1 question 2\n",
    "and_model = AND_model()\n",
    "for i in range(100):\n",
    "    and_model.train([(1, 1, 1), (1, 0, 0), (0, 1, 0), (0, 0, 0)])\n",
    "print(and_model.w)\n",
    "\n",
    "print('simulating x = 1, y = 1: ', and_model.sim(input_x = 1, input_y = 1))\n",
    "print('simulating x = 1, y = 0: ', and_model.sim(input_x = 1, input_y = 0))\n",
    "print('simulating x = 0, y = 1: ', and_model.sim(input_x = 0, input_y = 1))\n",
    "print('simulating x = 0, y = 0: ', and_model.sim(input_x = 0, input_y = 0))"
   ]
  },
  {
   "cell_type": "code",
   "execution_count": null,
   "metadata": {},
   "outputs": [],
   "source": []
  }
 ],
 "metadata": {
  "kernelspec": {
   "display_name": "Python 3",
   "language": "python",
   "name": "python3"
  },
  "language_info": {
   "codemirror_mode": {
    "name": "ipython",
    "version": 3
   },
   "file_extension": ".py",
   "mimetype": "text/x-python",
   "name": "python",
   "nbconvert_exporter": "python",
   "pygments_lexer": "ipython3",
   "version": "3.6.9"
  }
 },
 "nbformat": 4,
 "nbformat_minor": 4
}
